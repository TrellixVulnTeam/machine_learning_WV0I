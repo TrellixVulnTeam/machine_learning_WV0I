{
 "cells": [
  {
   "cell_type": "code",
   "execution_count": 3,
   "metadata": {},
   "outputs": [],
   "source": [
    "import requests\n",
    "from bs4 import BeautifulSoup\n",
    "\n",
    "res = requests.get('https://book.impress.co.jp/books/1116101151')\n",
    "html_doc = res.text\n",
    "soup = BeautifulSoup(html_doc, 'html.parser')"
   ]
  },
  {
   "cell_type": "code",
   "execution_count": 4,
   "metadata": {},
   "outputs": [],
   "source": [
    "div_book_detail = soup.find('div', class_= 'block-book-detail')"
   ]
  },
  {
   "cell_type": "code",
   "execution_count": 5,
   "metadata": {},
   "outputs": [
    {
     "data": {
      "text/plain": [
       "'いちばんやさしいPythonの教本 人気講師が教える基礎からサーバサイド開発まで'"
      ]
     },
     "execution_count": 5,
     "metadata": {},
     "output_type": "execute_result"
    }
   ],
   "source": [
    "book_title = div_book_detail.find('h2')\n",
    "book_title.get_text()"
   ]
  },
  {
   "cell_type": "code",
   "execution_count": 6,
   "metadata": {},
   "outputs": [
    {
     "data": {
      "text/plain": [
       "'¥2,200＋税'"
      ]
     },
     "execution_count": 6,
     "metadata": {},
     "output_type": "execute_result"
    }
   ],
   "source": [
    "book_price = div_book_detail.find('p', class_='module-book-price')\n",
    "book_price.get_text()"
   ]
  },
  {
   "cell_type": "code",
   "execution_count": 7,
   "metadata": {},
   "outputs": [],
   "source": [
    "dl_book_data = div_book_detail.find('dl', class_='module-book-data')"
   ]
  },
  {
   "cell_type": "code",
   "execution_count": 8,
   "metadata": {},
   "outputs": [],
   "source": [
    "book_data = {}\n",
    "for tag in dl_book_data.find_all(['dt', 'dd']):\n",
    "    if tag.name ==('dt'):\n",
    "        key = tag.get_text()\n",
    "    if tag.name ==('dd'):\n",
    "        book_data[key] = tag.get_text().strip()"
   ]
  },
  {
   "cell_type": "code",
   "execution_count": 9,
   "metadata": {},
   "outputs": [
    {
     "data": {
      "text/plain": [
       "{'品種名': '書籍',\n",
       " '発売日': '2017/8/10',\n",
       " 'ページ数': '272',\n",
       " 'サイズ': 'B5変形判',\n",
       " '著者': '鈴木 たかのり\\u3000著/杉谷 弥月\\u3000著/株式会社ビープラウド\\u3000著',\n",
       " 'ISBN': '9784295002086'}"
      ]
     },
     "execution_count": 9,
     "metadata": {},
     "output_type": "execute_result"
    }
   ],
   "source": [
    "book_data"
   ]
  },
  {
   "cell_type": "code",
   "execution_count": 10,
   "metadata": {},
   "outputs": [
    {
     "name": "stdout",
     "output_type": "stream",
     "text": [
      "発売日: 2017/8/10\n",
      "著者: 鈴木 たかのり　著/杉谷 弥月　著/株式会社ビープラウド　著\n"
     ]
    }
   ],
   "source": [
    "print('発売日:', book_data['発売日'])\n",
    "print('著者:', book_data['著者'])"
   ]
  },
  {
   "cell_type": "code",
   "execution_count": 11,
   "metadata": {},
   "outputs": [],
   "source": [
    "import requests\n",
    "from bs4 import BeautifulSoup\n",
    "\n",
    "res = requests.get('https://book.impress.co.jp/booklist/')\n",
    "html_doc = res.text\n",
    "soup = BeautifulSoup(html_doc, 'html.parser')\n",
    "div_book_list = soup.find('div', class_='block-book-list-body')"
   ]
  },
  {
   "cell_type": "code",
   "execution_count": 12,
   "metadata": {},
   "outputs": [],
   "source": [
    "book_urls = []\n",
    "a_tags = div_book_list.find_all('a')\n",
    "for a_tag in a_tags:\n",
    "    if a_tag['href'] not in book_urls:\n",
    "        book_urls.append(a_tag['href'])"
   ]
  },
  {
   "cell_type": "code",
   "execution_count": 14,
   "metadata": {},
   "outputs": [],
   "source": [
    "def get_book_info(book_url):\n",
    "    res = requests.get(book_url)\n",
    "    html_doc = res.text\n",
    "    soup = BeautifulSoup(html_doc, 'html.parser')\n",
    "    \n",
    "    div_book_detail = soup.find('div', class_='block-book-detail')\n",
    "    \n",
    "    book_title = div_book_detail.find('h2')\n",
    "    \n",
    "    book_price = div_book_detail.find('p', class_='module-book-price')\n",
    "    \n",
    "    book_data = {}\n",
    "    dl_book_data = div_book_detail.find('dl', class_='module-book-data')\n",
    "    for tag in dl_book_data.find_all(['dt', 'dd']):\n",
    "        if tag.name == 'dt':\n",
    "            key = tag.get_text()\n",
    "        if tag.name == 'dd':\n",
    "            book_data[key] = tag.get_text().strip()\n",
    "            \n",
    "    return [\n",
    "        book_title.get_text(),\n",
    "        book_price.get_text(),\n",
    "        book_data['発売日'],\n",
    "        book_data['著者'],\n",
    "    ]"
   ]
  },
  {
   "cell_type": "code",
   "execution_count": 15,
   "metadata": {},
   "outputs": [
    {
     "data": {
      "text/plain": [
       "['いちばんやさしいPythonの教本 人気講師が教える基礎からサーバサイド開発まで',\n",
       " '¥2,200＋税',\n",
       " '2017/8/10',\n",
       " '鈴木 たかのり\\u3000著/杉谷 弥月\\u3000著/株式会社ビープラウド\\u3000著']"
      ]
     },
     "execution_count": 15,
     "metadata": {},
     "output_type": "execute_result"
    }
   ],
   "source": [
    "get_book_info('https://book.impress.co.jp/books/1116101151')"
   ]
  },
  {
   "cell_type": "code",
   "execution_count": 16,
   "metadata": {},
   "outputs": [
    {
     "name": "stdout",
     "output_type": "stream",
     "text": [
      "スクレイピング中:  https://book.impress.co.jp/books/1120101044\n",
      "スクレイピング中:  https://book.impress.co.jp/books/1120102062\n",
      "スクレイピング中:  https://book.impress.co.jp/books/1120101028\n",
      "スクレイピング中:  https://book.impress.co.jp/books/1120101049\n",
      "スクレイピング中:  https://book.impress.co.jp/books/1120101017\n",
      "スクレイピング中:  https://book.impress.co.jp/books/1119101017\n",
      "スクレイピング中:  https://book.impress.co.jp/books/1119101166\n",
      "スクレイピング中:  https://book.impress.co.jp/books/1119101144\n",
      "スクレイピング中:  https://book.impress.co.jp/books/1119101140\n",
      "スクレイピング中:  https://book.impress.co.jp/books/1120102034\n",
      "スクレイピング中:  https://book.impress.co.jp/books/1120102035\n",
      "スクレイピング中:  https://book.impress.co.jp/books/1120101015\n",
      "スクレイピング中:  https://book.impress.co.jp/books/1120102038\n",
      "スクレイピング中:  https://book.impress.co.jp/books/1120102039\n",
      "スクレイピング中:  https://book.impress.co.jp/books/1120102036\n",
      "スクレイピング中:  https://book.impress.co.jp/books/1120101019\n",
      "スクレイピング中:  https://book.impress.co.jp/books/1120101010\n",
      "スクレイピング中:  https://book.impress.co.jp/books/1120501007\n",
      "スクレイピング中:  https://book.impress.co.jp/books/1120102030\n",
      "スクレイピング中:  https://book.impress.co.jp/books/1120102031\n",
      "スクレイピング中:  https://book.impress.co.jp/books/1120102029\n",
      "スクレイピング中:  https://book.impress.co.jp/books/1120102032\n",
      "スクレイピング中:  https://book.impress.co.jp/books/1120102033\n",
      "スクレイピング中:  https://book.impress.co.jp/books/1119102071\n",
      "スクレイピング中:  https://book.impress.co.jp/books/1119101163\n",
      "スクレイピング中:  https://book.impress.co.jp/books/1120102028\n",
      "スクレイピング中:  https://book.impress.co.jp/books/1120102027\n",
      "スクレイピング中:  https://book.impress.co.jp/books/1120102025\n",
      "スクレイピング中:  https://book.impress.co.jp/books/1120102024\n",
      "スクレイピング中:  https://book.impress.co.jp/books/1120102023\n",
      "スクレイピング中:  https://book.impress.co.jp/books/1120102022\n",
      "スクレイピング中:  https://book.impress.co.jp/books/1119101079\n",
      "完了\n"
     ]
    }
   ],
   "source": [
    "import time\n",
    "\n",
    "book_info_list = []\n",
    "for book_url in book_urls:\n",
    "    print('スクレイピング中: ', book_url)\n",
    "    book_info_list.append(get_book_info(book_url))\n",
    "    time.sleep(1)\n",
    "print('完了')"
   ]
  },
  {
   "cell_type": "code",
   "execution_count": null,
   "metadata": {},
   "outputs": [],
   "source": []
  }
 ],
 "metadata": {
  "kernelspec": {
   "display_name": "Python 3",
   "language": "python",
   "name": "python3"
  },
  "language_info": {
   "codemirror_mode": {
    "name": "ipython",
    "version": 3
   },
   "file_extension": ".py",
   "mimetype": "text/x-python",
   "name": "python",
   "nbconvert_exporter": "python",
   "pygments_lexer": "ipython3",
   "version": "3.8.3"
  }
 },
 "nbformat": 4,
 "nbformat_minor": 4
}
